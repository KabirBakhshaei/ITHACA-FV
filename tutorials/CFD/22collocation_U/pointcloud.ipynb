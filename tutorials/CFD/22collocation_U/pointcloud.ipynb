{
 "cells": [
  {
   "cell_type": "code",
   "execution_count": 1,
   "id": "95d18a26",
   "metadata": {},
   "outputs": [],
   "source": [
    "import numpy as np\n",
    "import matplotlib.pyplot as plt\n",
    "import laspy\n",
    "\n",
    "a = np.load(\"points.npy\")"
   ]
  },
  {
   "cell_type": "code",
   "execution_count": 2,
   "id": "41bc3978",
   "metadata": {},
   "outputs": [
    {
     "data": {
      "text/plain": [
       "array([20, 20,  1])"
      ]
     },
     "execution_count": 2,
     "metadata": {},
     "output_type": "execute_result"
    }
   ],
   "source": [
    "a = np.reshape(a, (int(a.size/3), 3), order='F')\n",
    "header = laspy.LasHeader(point_format=3, version=\"1.2\")\n",
    "header.add_extra_dim(laspy.ExtraBytesParams(name=\"random\", type=np.int32))\n",
    "header.offsets = np.min(a, axis=0)\n",
    "header.scales = np.array([0.1, 0.1, 0.1])\n",
    "point_cloud = laspy.LasData(header)\n",
    "point_cloud.x = a[:, 0]\n",
    "point_cloud.y = a[:, 1]\n",
    "point_cloud.z = a[:, 2]\n",
    "point_cloud.random = np.random.randint(-1503, 6546, len(point_cloud.points), np.int32)\n",
    "points = a\n",
    "voxel_size=0.1\n",
    "nb_vox=np.ceil((np.max(points, axis=0) - np.min(points, axis=0))/voxel_size)\n",
    "nb_vox.astype(int)"
   ]
  },
  {
   "cell_type": "code",
   "execution_count": 3,
   "id": "b425c40f",
   "metadata": {},
   "outputs": [
    {
     "data": {
      "text/plain": [
       "400"
      ]
     },
     "execution_count": 3,
     "metadata": {},
     "output_type": "execute_result"
    }
   ],
   "source": [
    "# Compute the non empty voxels and keep a trace of indexes that we can relate to points in order to store points later on.\n",
    "# Also Sum and count the points in each voxel.\n",
    "non_empty_voxel_keys, inverse, nb_pts_per_voxel= np.unique(((points - np.min(points, axis=0)) // voxel_size).astype(int), axis=0, return_inverse=True, return_counts=True)\n",
    "idx_pts_vox_sorted=np.argsort(inverse)\n",
    "len(non_empty_voxel_keys) # if you need to display how many no-empty voxels you have"
   ]
  },
  {
   "cell_type": "code",
   "execution_count": 4,
   "id": "7e812abb",
   "metadata": {},
   "outputs": [],
   "source": [
    "#Define a function that takes as input an array of points, and a voxel size expressed in meters. It returns the sampled point cloud\n",
    "def grid_subsampling(points, voxel_size):\n",
    "\n",
    "  nb_vox=np.ceil((np.max(points, axis=0) - np.min(points, axis=0))/voxel_size)\n",
    "  non_empty_voxel_keys, inverse, nb_pts_per_voxel= np.unique(((points - np.min(points, axis=0)) // voxel_size).astype(int), axis=0, return_inverse=True, return_counts=True)\n",
    "  idx_pts_vox_sorted=np.argsort(inverse)\n",
    "  voxel_grid={}\n",
    "  voxel_ids={}\n",
    "  grid_barycenter,grid_candidate_center,grid_ids=[],[],[]\n",
    "  last_seen=0\n",
    "  ids = np.arange(points.shape[0])\n",
    "\n",
    "  for idx,vox in enumerate(non_empty_voxel_keys):\n",
    "    voxel_grid[tuple(vox)]=points[idx_pts_vox_sorted[last_seen:last_seen+nb_pts_per_voxel[idx]]]\n",
    "    voxel_ids[tuple(vox)]=ids[idx_pts_vox_sorted[last_seen:last_seen+nb_pts_per_voxel[idx]]]\n",
    "    #voxel_ids[tuple(vox)]=ids[idx_pts_vox_sorted[last_seen:last_seen+nb_pts_per_voxel[idx]]]\n",
    "    \n",
    "    #print(points[idx_pts_vox_sorted[last_seen:last_seen+nb_pts_per_voxel[idx]]])\n",
    "    grid_barycenter.append(np.mean(voxel_grid[tuple(vox)],axis=0))\n",
    "    grid_candidate_center.append(voxel_grid[tuple(vox)][np.linalg.norm(voxel_grid[tuple(vox)]-np.mean(voxel_grid[tuple(vox)],axis=0),axis=1).argmin()])\n",
    "    grid_ids.append(voxel_ids[tuple(vox)][np.linalg.norm(voxel_grid[tuple(vox)]-np.mean(voxel_grid[tuple(vox)],axis=0),axis=1).argmin()])\n",
    "    last_seen+=nb_pts_per_voxel[idx]\n",
    "  \n",
    "  grid_candidate_center=np.vstack(grid_candidate_center)\n",
    "  grid_ids = np.array(grid_ids)\n",
    "  grid_ids = grid_ids.reshape(len(grid_ids),1)\n",
    "\n",
    "  return grid_candidate_center, grid_ids"
   ]
  },
  {
   "cell_type": "code",
   "execution_count": 7,
   "id": "0814a968",
   "metadata": {},
   "outputs": [
    {
     "name": "stdout",
     "output_type": "stream",
     "text": [
      "[[ 164]\n",
      " [ 484]\n",
      " [ 804]\n",
      " [1123]\n",
      " [1444]\n",
      " [ 131]\n",
      " [ 452]\n",
      " [ 812]\n",
      " [1131]\n",
      " [1452]\n",
      " [ 180]\n",
      " [ 500]\n",
      " [ 819]\n",
      " [1140]\n",
      " [1459]\n",
      " [ 148]\n",
      " [ 467]\n",
      " [ 827]\n",
      " [1107]\n",
      " [1467]\n",
      " [ 195]\n",
      " [ 476]\n",
      " [ 836]\n",
      " [1155]\n",
      " [1476]]\n"
     ]
    }
   ],
   "source": [
    "#Execute the function, and store the results in the grid_sampled_point_cloud variable\n",
    "grid_sampled_point_cloud, grid_ids = grid_subsampling(points, 0.4)\n",
    "print(grid_ids)\n",
    "#print(points.shape)\n",
    "#print(grid_sampled_point_cloud)"
   ]
  },
  {
   "cell_type": "code",
   "execution_count": 6,
   "id": "c8b683e9",
   "metadata": {},
   "outputs": [],
   "source": [
    "np.save(\"file.npy\",grid_ids)"
   ]
  },
  {
   "cell_type": "code",
   "execution_count": null,
   "id": "feab51af",
   "metadata": {},
   "outputs": [],
   "source": []
  },
  {
   "cell_type": "code",
   "execution_count": null,
   "id": "9a305c10",
   "metadata": {},
   "outputs": [],
   "source": []
  },
  {
   "cell_type": "code",
   "execution_count": null,
   "id": "8463ea46",
   "metadata": {},
   "outputs": [],
   "source": []
  },
  {
   "cell_type": "code",
   "execution_count": null,
   "id": "b140ef75",
   "metadata": {},
   "outputs": [],
   "source": []
  },
  {
   "cell_type": "code",
   "execution_count": null,
   "id": "38b2df80",
   "metadata": {},
   "outputs": [],
   "source": []
  }
 ],
 "metadata": {
  "kernelspec": {
   "display_name": "Python 3 (ipykernel)",
   "language": "python",
   "name": "python3"
  },
  "language_info": {
   "codemirror_mode": {
    "name": "ipython",
    "version": 3
   },
   "file_extension": ".py",
   "mimetype": "text/x-python",
   "name": "python",
   "nbconvert_exporter": "python",
   "pygments_lexer": "ipython3",
   "version": "3.10.2"
  }
 },
 "nbformat": 4,
 "nbformat_minor": 5
}
